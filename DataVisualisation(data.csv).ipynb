{
 "cells": [
  {
   "cell_type": "markdown",
   "metadata": {},
   "source": [
    "importing what is required\n",
    "reading the csv file"
   ]
  },
  {
   "cell_type": "code",
   "execution_count": 37,
   "metadata": {},
   "outputs": [],
   "source": [
    "import pandas as pd\n",
    "import numpy as np\n",
    "import matplotlib.pyplot as plt\n",
    "df = pd.read_csv(\"data.csv\")"
   ]
  },
  {
   "cell_type": "markdown",
   "metadata": {},
   "source": [
    "Checking the shape and size of dataframe"
   ]
  },
  {
   "cell_type": "code",
   "execution_count": 39,
   "metadata": {},
   "outputs": [
    {
     "name": "stdout",
     "output_type": "stream",
     "text": [
      "(327, 19)\n",
      "6213\n"
     ]
    }
   ],
   "source": [
    "print(df.shape)\n",
    "print(df.size)\n",
    "nrows = df.shape[0]\n",
    "ncols = df.shape[1]"
   ]
  },
  {
   "cell_type": "markdown",
   "metadata": {},
   "source": [
    "The dataframe itself"
   ]
  },
  {
   "cell_type": "code",
   "execution_count": 3,
   "metadata": {},
   "outputs": [
    {
     "data": {
      "text/html": [
       "<div>\n",
       "<style scoped>\n",
       "    .dataframe tbody tr th:only-of-type {\n",
       "        vertical-align: middle;\n",
       "    }\n",
       "\n",
       "    .dataframe tbody tr th {\n",
       "        vertical-align: top;\n",
       "    }\n",
       "\n",
       "    .dataframe thead th {\n",
       "        text-align: right;\n",
       "    }\n",
       "</style>\n",
       "<table border=\"1\" class=\"dataframe\">\n",
       "  <thead>\n",
       "    <tr style=\"text-align: right;\">\n",
       "      <th></th>\n",
       "      <th>S.No</th>\n",
       "      <th>EmpID</th>\n",
       "      <th>Emp Name</th>\n",
       "      <th>DOJ</th>\n",
       "      <th>Designation</th>\n",
       "      <th>Grade</th>\n",
       "      <th>Attrition</th>\n",
       "      <th>Location</th>\n",
       "      <th>In Active Date</th>\n",
       "      <th>Tenure</th>\n",
       "      <th>Gender</th>\n",
       "      <th>Education</th>\n",
       "      <th>Age</th>\n",
       "      <th>Last Rating</th>\n",
       "      <th>Monthly Income</th>\n",
       "      <th>Engagement Score (% Satisfaction)</th>\n",
       "      <th>Marital Status</th>\n",
       "      <th>Zone</th>\n",
       "      <th>Remarks</th>\n",
       "    </tr>\n",
       "  </thead>\n",
       "  <tbody>\n",
       "    <tr>\n",
       "      <th>0</th>\n",
       "      <td>1</td>\n",
       "      <td>XYZ2685</td>\n",
       "      <td>ABC1</td>\n",
       "      <td>22-Nov-10</td>\n",
       "      <td>Sales Executive</td>\n",
       "      <td>E1</td>\n",
       "      <td>Yes</td>\n",
       "      <td>Bhavnagar</td>\n",
       "      <td>26-May-12</td>\n",
       "      <td>1. 6</td>\n",
       "      <td>Female</td>\n",
       "      <td>Bachelors</td>\n",
       "      <td>27</td>\n",
       "      <td>4</td>\n",
       "      <td>25535</td>\n",
       "      <td>2%</td>\n",
       "      <td>Divorced</td>\n",
       "      <td>West</td>\n",
       "      <td>Issues with the Manager</td>\n",
       "    </tr>\n",
       "    <tr>\n",
       "      <th>1</th>\n",
       "      <td>2</td>\n",
       "      <td>XYZ2490</td>\n",
       "      <td>ABC2</td>\n",
       "      <td>5-Jul-10</td>\n",
       "      <td>Technical Services Officer</td>\n",
       "      <td>M2</td>\n",
       "      <td>Yes</td>\n",
       "      <td>Jayanagar</td>\n",
       "      <td>6-Apr-12</td>\n",
       "      <td>1. 9</td>\n",
       "      <td>Male</td>\n",
       "      <td>MBA</td>\n",
       "      <td>36</td>\n",
       "      <td>2</td>\n",
       "      <td>52155</td>\n",
       "      <td>45%</td>\n",
       "      <td>Single</td>\n",
       "      <td>South</td>\n",
       "      <td>More Challenging Job Roles/ Higher designation</td>\n",
       "    </tr>\n",
       "    <tr>\n",
       "      <th>2</th>\n",
       "      <td>3</td>\n",
       "      <td>XYZ2662</td>\n",
       "      <td>ABC3</td>\n",
       "      <td>20-Oct-10</td>\n",
       "      <td>Sales Executive</td>\n",
       "      <td>E1</td>\n",
       "      <td>Yes</td>\n",
       "      <td>Indore</td>\n",
       "      <td>7-Apr-12</td>\n",
       "      <td>1. 5</td>\n",
       "      <td>Male</td>\n",
       "      <td>Bachelors</td>\n",
       "      <td>24</td>\n",
       "      <td>4</td>\n",
       "      <td>26438</td>\n",
       "      <td>18%</td>\n",
       "      <td>Divorced</td>\n",
       "      <td>CENTRAL</td>\n",
       "      <td>Issues with the Manager</td>\n",
       "    </tr>\n",
       "    <tr>\n",
       "      <th>3</th>\n",
       "      <td>4</td>\n",
       "      <td>XYZ1679</td>\n",
       "      <td>ABC4</td>\n",
       "      <td>1 May 08</td>\n",
       "      <td>AM - Sales</td>\n",
       "      <td>M1</td>\n",
       "      <td>Yes</td>\n",
       "      <td>Admin Gujarat</td>\n",
       "      <td>3 Apr 12</td>\n",
       "      <td>3 .11</td>\n",
       "      <td>Male</td>\n",
       "      <td>Bachelors</td>\n",
       "      <td>33</td>\n",
       "      <td>2</td>\n",
       "      <td>54311</td>\n",
       "      <td>82%</td>\n",
       "      <td>Single</td>\n",
       "      <td>West</td>\n",
       "      <td>Lack of Growth</td>\n",
       "    </tr>\n",
       "    <tr>\n",
       "      <th>4</th>\n",
       "      <td>5</td>\n",
       "      <td>XYZ2378</td>\n",
       "      <td>ABC5</td>\n",
       "      <td>3 Mar 10</td>\n",
       "      <td>Sales Executive</td>\n",
       "      <td>E1</td>\n",
       "      <td>Yes</td>\n",
       "      <td>Jagdishpuram</td>\n",
       "      <td>10 Apr 12</td>\n",
       "      <td>2 .1</td>\n",
       "      <td>Male</td>\n",
       "      <td>Bachelors</td>\n",
       "      <td>24</td>\n",
       "      <td>4</td>\n",
       "      <td>26702</td>\n",
       "      <td>49%</td>\n",
       "      <td>Divorced</td>\n",
       "      <td>North</td>\n",
       "      <td>Issues with the Manager</td>\n",
       "    </tr>\n",
       "    <tr>\n",
       "      <th>...</th>\n",
       "      <td>...</td>\n",
       "      <td>...</td>\n",
       "      <td>...</td>\n",
       "      <td>...</td>\n",
       "      <td>...</td>\n",
       "      <td>...</td>\n",
       "      <td>...</td>\n",
       "      <td>...</td>\n",
       "      <td>...</td>\n",
       "      <td>...</td>\n",
       "      <td>...</td>\n",
       "      <td>...</td>\n",
       "      <td>...</td>\n",
       "      <td>...</td>\n",
       "      <td>...</td>\n",
       "      <td>...</td>\n",
       "      <td>...</td>\n",
       "      <td>...</td>\n",
       "      <td>...</td>\n",
       "    </tr>\n",
       "    <tr>\n",
       "      <th>322</th>\n",
       "      <td>323</td>\n",
       "      <td>XYZ1538</td>\n",
       "      <td>ABC323</td>\n",
       "      <td>26-May-08</td>\n",
       "      <td>AM - Sales</td>\n",
       "      <td>M1</td>\n",
       "      <td>Yes</td>\n",
       "      <td>Guntur</td>\n",
       "      <td>15 Mar 13</td>\n",
       "      <td>4 .9</td>\n",
       "      <td>Male</td>\n",
       "      <td>Bachelors</td>\n",
       "      <td>37</td>\n",
       "      <td>2</td>\n",
       "      <td>53841</td>\n",
       "      <td>69%</td>\n",
       "      <td>Divorced</td>\n",
       "      <td>South</td>\n",
       "      <td>Lack of Growth</td>\n",
       "    </tr>\n",
       "    <tr>\n",
       "      <th>323</th>\n",
       "      <td>324</td>\n",
       "      <td>XYZ3221</td>\n",
       "      <td>ABC324</td>\n",
       "      <td>13-Sep-12</td>\n",
       "      <td>Sales Executive</td>\n",
       "      <td>E1</td>\n",
       "      <td>Yes</td>\n",
       "      <td>Guntur</td>\n",
       "      <td>7 Mar 13</td>\n",
       "      <td>0. 5</td>\n",
       "      <td>Male</td>\n",
       "      <td>Bachelors</td>\n",
       "      <td>25</td>\n",
       "      <td>3</td>\n",
       "      <td>25813</td>\n",
       "      <td>11%</td>\n",
       "      <td>Married</td>\n",
       "      <td>South</td>\n",
       "      <td>Lack of Growth</td>\n",
       "    </tr>\n",
       "    <tr>\n",
       "      <th>324</th>\n",
       "      <td>325</td>\n",
       "      <td>XYZ0207</td>\n",
       "      <td>ABC325</td>\n",
       "      <td>12-Dec-05</td>\n",
       "      <td>Sr Sales Executive</td>\n",
       "      <td>E2</td>\n",
       "      <td>Yes</td>\n",
       "      <td>Guntur</td>\n",
       "      <td>12 Mar 13</td>\n",
       "      <td>7 .3</td>\n",
       "      <td>Male</td>\n",
       "      <td>Bachelors</td>\n",
       "      <td>28</td>\n",
       "      <td>1</td>\n",
       "      <td>36498</td>\n",
       "      <td>11%</td>\n",
       "      <td>Divorced</td>\n",
       "      <td>South</td>\n",
       "      <td>Lack of Growth</td>\n",
       "    </tr>\n",
       "    <tr>\n",
       "      <th>325</th>\n",
       "      <td>326</td>\n",
       "      <td>XYZ0183</td>\n",
       "      <td>ABC326</td>\n",
       "      <td>21-Jul-04</td>\n",
       "      <td>AM - Sales</td>\n",
       "      <td>M1</td>\n",
       "      <td>Yes</td>\n",
       "      <td>Guntur</td>\n",
       "      <td>31 Mar 13</td>\n",
       "      <td>8 .8</td>\n",
       "      <td>Male</td>\n",
       "      <td>Bachelors</td>\n",
       "      <td>36</td>\n",
       "      <td>3</td>\n",
       "      <td>51796</td>\n",
       "      <td>82%</td>\n",
       "      <td>Divorced</td>\n",
       "      <td>South</td>\n",
       "      <td>Termination - Poor Performance</td>\n",
       "    </tr>\n",
       "    <tr>\n",
       "      <th>326</th>\n",
       "      <td>327</td>\n",
       "      <td>XYZ3381</td>\n",
       "      <td>ABC327</td>\n",
       "      <td>22-Feb-13</td>\n",
       "      <td>Sales Executive</td>\n",
       "      <td>E1</td>\n",
       "      <td>Yes</td>\n",
       "      <td>Hinoo</td>\n",
       "      <td>8 Mar 13</td>\n",
       "      <td>0. 0</td>\n",
       "      <td>Male</td>\n",
       "      <td>Bachelors</td>\n",
       "      <td>27</td>\n",
       "      <td>4</td>\n",
       "      <td>26678</td>\n",
       "      <td>49%</td>\n",
       "      <td>Divorced</td>\n",
       "      <td>East</td>\n",
       "      <td>Issues with the Manager</td>\n",
       "    </tr>\n",
       "  </tbody>\n",
       "</table>\n",
       "<p>327 rows × 19 columns</p>\n",
       "</div>"
      ],
      "text/plain": [
       "     S.No    EmpID Emp Name        DOJ                 Designation Grade  \\\n",
       "0       1  XYZ2685     ABC1  22-Nov-10             Sales Executive    E1   \n",
       "1       2  XYZ2490     ABC2   5-Jul-10  Technical Services Officer    M2   \n",
       "2       3  XYZ2662     ABC3  20-Oct-10             Sales Executive    E1   \n",
       "3       4  XYZ1679     ABC4   1 May 08                  AM - Sales    M1   \n",
       "4       5  XYZ2378     ABC5   3 Mar 10            Sales Executive     E1   \n",
       "..    ...      ...      ...        ...                         ...   ...   \n",
       "322   323  XYZ1538   ABC323  26-May-08                  AM - Sales    M1   \n",
       "323   324  XYZ3221   ABC324  13-Sep-12             Sales Executive    E1   \n",
       "324   325  XYZ0207   ABC325  12-Dec-05          Sr Sales Executive    E2   \n",
       "325   326  XYZ0183   ABC326  21-Jul-04                  AM - Sales    M1   \n",
       "326   327  XYZ3381   ABC327  22-Feb-13             Sales Executive    E1   \n",
       "\n",
       "    Attrition        Location In Active Date  Tenure  Gender  Education  Age  \\\n",
       "0          Yes      Bhavnagar      26-May-12   1. 6   Female  Bachelors   27   \n",
       "1          Yes      Jayanagar       6-Apr-12   1. 9     Male        MBA   36   \n",
       "2          Yes         Indore       7-Apr-12   1. 5     Male  Bachelors   24   \n",
       "3          Yes  Admin Gujarat       3 Apr 12  3 .11     Male  Bachelors   33   \n",
       "4          Yes   Jagdishpuram      10 Apr 12   2 .1     Male  Bachelors   24   \n",
       "..         ...            ...            ...     ...     ...        ...  ...   \n",
       "322        Yes         Guntur      15 Mar 13   4 .9     Male  Bachelors   37   \n",
       "323        Yes         Guntur       7 Mar 13   0. 5     Male  Bachelors   25   \n",
       "324        Yes         Guntur      12 Mar 13   7 .3     Male  Bachelors   28   \n",
       "325        Yes         Guntur      31 Mar 13   8 .8     Male  Bachelors   36   \n",
       "326        Yes          Hinoo       8 Mar 13   0. 0     Male  Bachelors   27   \n",
       "\n",
       "     Last Rating  Monthly Income Engagement Score (% Satisfaction)  \\\n",
       "0              4           25535                                2%   \n",
       "1              2           52155                               45%   \n",
       "2              4           26438                               18%   \n",
       "3              2           54311                               82%   \n",
       "4              4           26702                               49%   \n",
       "..           ...             ...                               ...   \n",
       "322            2           53841                               69%   \n",
       "323            3           25813                               11%   \n",
       "324            1           36498                               11%   \n",
       "325            3           51796                               82%   \n",
       "326            4           26678                               49%   \n",
       "\n",
       "    Marital Status     Zone                                         Remarks  \n",
       "0         Divorced     West                         Issues with the Manager  \n",
       "1          Single     South  More Challenging Job Roles/ Higher designation  \n",
       "2         Divorced  CENTRAL                         Issues with the Manager  \n",
       "3          Single      West                                  Lack of Growth  \n",
       "4         Divorced    North                         Issues with the Manager  \n",
       "..             ...      ...                                             ...  \n",
       "322       Divorced    South                                  Lack of Growth  \n",
       "323        Married    South                                  Lack of Growth  \n",
       "324       Divorced    South                                  Lack of Growth  \n",
       "325       Divorced    South                  Termination - Poor Performance  \n",
       "326       Divorced     East                         Issues with the Manager  \n",
       "\n",
       "[327 rows x 19 columns]"
      ]
     },
     "execution_count": 3,
     "metadata": {},
     "output_type": "execute_result"
    }
   ],
   "source": [
    "df"
   ]
  },
  {
   "cell_type": "markdown",
   "metadata": {},
   "source": [
    "Firstly, I plan to see the different designations of people leaving and their numbers"
   ]
  },
  {
   "cell_type": "code",
   "execution_count": 6,
   "metadata": {},
   "outputs": [
    {
     "name": "stdout",
     "output_type": "stream",
     "text": [
      "designations ['Sales Executive' 'Technical Services Officer' 'AM - Sales'\n",
      " 'Sr Sales Executive' 'Regional Manager' 'Zonal Manager'\n",
      " 'National Sales Head'] \n",
      " count: 7\n"
     ]
    }
   ],
   "source": [
    "designations=df[\"Designation\"].unique()\n",
    "print(\"designations\",designations,\"\\n\", \"count:\", len(designations))"
   ]
  },
  {
   "cell_type": "markdown",
   "metadata": {},
   "source": [
    "So observing these unique values there are some duplicates because of the space at end of some of them\n",
    "eg. 'Sr Sales Executive' and 'Sr Sales Executive '\n",
    "So to remove these"
   ]
  },
  {
   "cell_type": "code",
   "execution_count": 5,
   "metadata": {},
   "outputs": [],
   "source": [
    "for index, row in df.iterrows():\n",
    "  for i in range(ncols):\n",
    "    if type(df.iloc[index,i])==str:\n",
    "      df.iloc[index,i] = df.iloc[index,i].strip()"
   ]
  },
  {
   "cell_type": "code",
   "execution_count": 10,
   "metadata": {},
   "outputs": [
    {
     "name": "stdout",
     "output_type": "stream",
     "text": [
      "designations ['Sales Executive' 'Technical Services Officer' 'AM - Sales'\n",
      " 'Sr Sales Executive' 'Regional Manager' 'Zonal Manager'\n",
      " 'National Sales Head'] \n",
      " count: 7\n"
     ]
    }
   ],
   "source": [
    "designations=df[\"Designation\"].unique()\n",
    "print(\"designations\",designations,\"\\n\", \"count:\", designations.shape[0])"
   ]
  },
  {
   "cell_type": "markdown",
   "metadata": {},
   "source": [
    "Done!"
   ]
  },
  {
   "cell_type": "markdown",
   "metadata": {},
   "source": [
    "Now on to plot these numbers"
   ]
  },
  {
   "cell_type": "code",
   "execution_count": 7,
   "metadata": {},
   "outputs": [
    {
     "name": "stdout",
     "output_type": "stream",
     "text": [
      "[235, 27, 22, 34, 5, 3, 1]\n"
     ]
    },
    {
     "data": {
      "text/plain": [
       "<Figure size 11520x11520 with 0 Axes>"
      ]
     },
     "execution_count": 7,
     "metadata": {},
     "output_type": "execute_result"
    },
    {
     "data": {
      "image/png": "[encoded data removed]",
      "text/plain": [
       "<Figure size 432x288 with 1 Axes>"
      ]
     },
     "metadata": {
      "needs_background": "light"
     },
     "output_type": "display_data"
    },
    {
     "data": {
      "text/plain": [
       "<Figure size 11520x11520 with 0 Axes>"
      ]
     },
     "metadata": {},
     "output_type": "display_data"
    }
   ],
   "source": [
    "desgcount = []\n",
    "for i in range(designations.shape[0]):\n",
    "    desgcount.append(df[df[\"Designation\"]==designations[i]].shape[0])\n",
    "print(desgcount)\n",
    "\n",
    "plt.bar(designations,desgcount)\n",
    "plt.figure(figsize = (160,160))\n"
   ]
  },
  {
   "cell_type": "markdown",
   "metadata": {},
   "source": [
    "With this graph we can see the employees's designations who have left and this information can be used to further inspect in the company.\n",
    "We can do the same thing for the locations"
   ]
  },
  {
   "cell_type": "code",
   "execution_count": 41,
   "metadata": {},
   "outputs": [],
   "source": [
    "df = df.astype({\"Location\":str})\n",
    "for index in range(nrows):\n",
    "    df.iloc[index,7] = df.iloc[index,7].lower()\n"
   ]
  },
  {
   "cell_type": "code",
   "execution_count": 44,
   "metadata": {},
   "outputs": [
    {
     "name": "stdout",
     "output_type": "stream",
     "text": [
      "['bhavnagar' 'jayanagar' 'indore' 'admin gujarat' 'jagdishpuram' 'lalganj'\n",
      " 'trombay' 'sinahagad' 'vasai' 'kozhikode' 'haridwar' 'madurai' 'jammu'\n",
      " 'dehradun' 'hinoo' 'balasore' 'bilaspur' 'pune' 'gurukul' 'zo kolkata'\n",
      " 'jagatpur' 'admin maharastra' 'patiala' 'nasik' 'trivandrum' 'dumdum'\n",
      " 'bally' 'cuttack' 'vellore' 'vyara' 'zo mumbai' 'rohini' 'ho hyderabad'\n",
      " 'varanasi' 'nan' 'koyambedu' 'madurai (thallakulam)' 'siliguri' 'kanpur'\n",
      " 'lalpur' 'raipur' 'velachery' 'najafgarh' 'sultanpur' 'gurubuxganj'\n",
      " 'shimla' 'anand (ext vadodara)' 'shahpura' 'gondal' 'sonipat'\n",
      " 'admin delhi' 'tilak vihar' 'jagdispuram' 'magadi road' 'zo delhi'\n",
      " 'kalyan' 'loni' 'kolkata' 'jhansi' 'kolkatta' 'allahabad' 'mandi'\n",
      " 'haldwani' 'unchahar' 'lambhua' 'hadapsar' 'devenahalli' 'trichy'\n",
      " 'mukundpur' 'rajamundry' 'ameethi' 'ahmedabad' 'kalewadi' 'mithapur'\n",
      " 'udaipur' 'hanuman nagar' 'indrapuri' 'kangra' 'kashidih' 'orissa'\n",
      " 'bhopal indrapuri' 'jabalpur alok nagar' 'ho' 'durg' 'bangalore' 'behala'\n",
      " 'bachrawan' 'vizag' 'hadspar' 'badarpur' 'amritsar' 'thallakulam' 'agra'\n",
      " 'vadodara' 'barrackpore' 'kasidih ' 'danapur' 'pondicherry'\n",
      " 'admin jharkhand' 'garia' 'barasat' 'bhubaneswar' 'daund' 'trissur'\n",
      " 'puri' 'balasore ' 'anand' 'coimbatore' 'thrissur' 'shapura' 'alok nagar'\n",
      " 'madurai - thallakulam' 'jalandhar' 'bandel' 'salt lake'\n",
      " 'kodinar (gondal ext)' 'santhome' 'mysore ' 'kasidih' 'vijaywada' 'delhi'\n",
      " 'mysore' 'jaipur' 'bbsr' 'hadapsar (pune)' 'avadi' 'koramangala'\n",
      " 'chennai' 'vasna' 'rajkot' 'badlapur' 'anand (vadodara ext)'\n",
      " 'navapur (vyara ext)' 'kotra' 'vijay vihar' 'guntur'] [4, 2, 4, 1, 3, 1, 1, 1, 2, 3, 1, 8, 3, 4, 6, 3, 1, 3, 4, 1, 2, 1, 4, 2, 18, 2, 3, 5, 3, 2, 2, 3, 10, 4, 2, 5, 1, 4, 3, 3, 2, 8, 1, 5, 3, 1, 1, 2, 3, 1, 1, 1, 1, 1, 3, 4, 4, 2, 3, 1, 4, 2, 2, 2, 1, 1, 2, 2, 2, 9, 1, 2, 2, 2, 1, 3, 1, 1, 1, 1, 1, 1, 7, 1, 1, 2, 2, 9, 1, 3, 2, 2, 2, 2, 3, 1, 1, 1, 1, 2, 1, 2, 1, 1, 2, 1, 2, 2, 1, 1, 1, 1, 2, 1, 1, 1, 1, 1, 1, 9, 1, 1, 2, 2, 1, 1, 1, 2, 1, 2, 2, 1, 1, 1, 1, 4]\n"
     ]
    }
   ],
   "source": [
    "\n",
    "locations=df[\"Location\"].unique()\n",
    "locscount = []\n",
    "for i in range(locations.shape[0]):\n",
    "    locscount.append(df[df[\"Location\"]==locations[i]].shape[0])\n",
    "print(locations,locscount)\n"
   ]
  },
  {
   "cell_type": "code",
   "execution_count": 43,
   "metadata": {},
   "outputs": [
    {
     "data": {
      "image/png": "[encoded data removed]",
      "text/plain": [
       "<Figure size 4176x1116 with 1 Axes>"
      ]
     },
     "metadata": {
      "needs_background": "light"
     },
     "output_type": "display_data"
    }
   ],
   "source": [
    "plt.bar(locations,locscount)\n",
    "# plt.figure(figsize = (160,160))\n",
    "plt.rcParams[\"figure.figsize\"] = (58,15.5)"
   ]
  }
 ],
 "metadata": {
  "kernelspec": {
   "display_name": "Python 3.10.4 64-bit",
   "language": "python",
   "name": "python3"
  },
  "language_info": {
   "codemirror_mode": {
    "name": "ipython",
    "version": 3
   },
   "file_extension": ".py",
   "mimetype": "text/x-python",
   "name": "python",
   "nbconvert_exporter": "python",
   "pygments_lexer": "ipython3",
   "version": "3.10.4"
  },
  "orig_nbformat": 4,
  "vscode": {
   "interpreter": {
    "hash": "c19fa61d258bb2b35aae2ada233c33e2817c1ce895aa48acba720c6bf7cbe3cb"
   }
  }
 },
 "nbformat": 4,
 "nbformat_minor": 2
}
